{
 "cells": [
  {
   "cell_type": "code",
   "execution_count": 1,
   "id": "437489d1-166d-4fce-b4c2-db5ff8343b1d",
   "metadata": {},
   "outputs": [],
   "source": [
    "import tkinter as tk\n",
    "import tkinter.messagebox\n",
    "import win32gui\n",
    "import numpy as np\n",
    "import tensorflow as tf\n",
    "from PIL import ImageGrab\n",
    "#Python 3.10.12"
   ]
  },
  {
   "cell_type": "code",
   "execution_count": null,
   "id": "7c2366f6-ba2a-4417-9100-0c67ec472257",
   "metadata": {},
   "outputs": [
    {
     "name": "stderr",
     "output_type": "stream",
     "text": [
      "WARNING:absl:Compiled the loaded model, but the compiled metrics have yet to be built. `model.compile_metrics` will be empty until you train or evaluate the model.\n"
     ]
    },
    {
     "name": "stdout",
     "output_type": "stream",
     "text": [
      "\u001b[1m1/1\u001b[0m \u001b[32m━━━━━━━━━━━━━━━━━━━━\u001b[0m\u001b[37m\u001b[0m \u001b[1m0s\u001b[0m 213ms/step\n",
      "\u001b[1m1/1\u001b[0m \u001b[32m━━━━━━━━━━━━━━━━━━━━\u001b[0m\u001b[37m\u001b[0m \u001b[1m0s\u001b[0m 25ms/step\n",
      "\u001b[1m1/1\u001b[0m \u001b[32m━━━━━━━━━━━━━━━━━━━━\u001b[0m\u001b[37m\u001b[0m \u001b[1m0s\u001b[0m 25ms/step\n",
      "\u001b[1m1/1\u001b[0m \u001b[32m━━━━━━━━━━━━━━━━━━━━\u001b[0m\u001b[37m\u001b[0m \u001b[1m0s\u001b[0m 24ms/step\n",
      "\u001b[1m1/1\u001b[0m \u001b[32m━━━━━━━━━━━━━━━━━━━━\u001b[0m\u001b[37m\u001b[0m \u001b[1m0s\u001b[0m 23ms/step\n",
      "\u001b[1m1/1\u001b[0m \u001b[32m━━━━━━━━━━━━━━━━━━━━\u001b[0m\u001b[37m\u001b[0m \u001b[1m0s\u001b[0m 23ms/step\n",
      "\u001b[1m1/1\u001b[0m \u001b[32m━━━━━━━━━━━━━━━━━━━━\u001b[0m\u001b[37m\u001b[0m \u001b[1m0s\u001b[0m 23ms/step\n",
      "\u001b[1m1/1\u001b[0m \u001b[32m━━━━━━━━━━━━━━━━━━━━\u001b[0m\u001b[37m\u001b[0m \u001b[1m0s\u001b[0m 30ms/step\n"
     ]
    }
   ],
   "source": [
    "def initialize():\n",
    "    top = tk.Tk()\n",
    "    top.geometry(\"300x350\")\n",
    "    top.title(\"HCR\")\n",
    "    model = tf.keras.models.load_model(\"handwriting_model.h5\")\n",
    "    return top, model\n",
    "\n",
    "def decode(num):\n",
    "    return num if num <= 9 else int(num) + 55\n",
    "\n",
    "def clear():\n",
    "    canvas.delete(\"all\")\n",
    "\n",
    "def predict():\n",
    "    # Step 1 : Getting the canvas ID\n",
    "    canvas_handle = canvas.winfo_id()\n",
    "    # Step 2 : Get the canvas from ID\n",
    "    canvas_rect = win32gui.GetWindowRect(canvas_handle)\n",
    "    # Step 3 : Get the canvas content\n",
    "    img = ImageGrab.grab(canvas_rect)\n",
    "    # Step 4 : Resize the content for CNN input\n",
    "    img = img.resize((28, 28)).convert(\"L\")\n",
    "    img = np.array(img)\n",
    "    img = img.reshape((1, 28, 28, 1))\n",
    "    img = img / 255.0\n",
    "    # Step 5 : Predict the image drawn\n",
    "    Y = model.predict([img])[0]\n",
    "    tkinter.messagebox.showinfo(\"Prediction\", \"it's a \" + str(decode(np.argmax(Y))))\n",
    "\n",
    "\n",
    "def mouse_event(event):\n",
    "    x, y = event.x, event.y\n",
    "    canvas.create_oval(x, y, x, y, fill='white', outline='white', width=25)\n",
    "\n",
    "\n",
    "(root, model) = initialize()\n",
    "button_frame = tk.Frame(root)\n",
    "\n",
    "canvas = tk.Canvas(root, bg=\"black\", height=300, width=300)\n",
    "canvas.bind('<B1-Motion>', mouse_event)\n",
    "clear_button = tk.Button(button_frame, text=\"Clear\", command=clear)\n",
    "predict_button = tk.Button(button_frame, text=\"Predict\", command=predict)\n",
    "\n",
    "canvas.pack()\n",
    "clear_button.pack(side=\"left\")\n",
    "predict_button.pack(side=\"right\")\n",
    "\n",
    "button_frame.pack()\n",
    "root.mainloop()"
   ]
  },
  {
   "cell_type": "code",
   "execution_count": null,
   "id": "06e19dc0-becc-4672-bace-6e2c29e622e9",
   "metadata": {},
   "outputs": [],
   "source": []
  }
 ],
 "metadata": {
  "kernelspec": {
   "display_name": "Python 3 (ipykernel)",
   "language": "python",
   "name": "python3"
  },
  "language_info": {
   "codemirror_mode": {
    "name": "ipython",
    "version": 3
   },
   "file_extension": ".py",
   "mimetype": "text/x-python",
   "name": "python",
   "nbconvert_exporter": "python",
   "pygments_lexer": "ipython3",
   "version": "3.10.12"
  }
 },
 "nbformat": 4,
 "nbformat_minor": 5
}
